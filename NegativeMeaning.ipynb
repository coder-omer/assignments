{
  "nbformat": 4,
  "nbformat_minor": 0,
  "metadata": {
    "colab": {
      "name": "NegativeMeaning.ipynb",
      "provenance": [],
      "authorship_tag": "ABX9TyN4XQOLArSd6LI3ylT9mRjV",
      "include_colab_link": true
    },
    "kernelspec": {
      "name": "python3",
      "display_name": "Python 3"
    },
    "language_info": {
      "name": "python"
    }
  },
  "cells": [
    {
      "cell_type": "markdown",
      "metadata": {
        "id": "view-in-github",
        "colab_type": "text"
      },
      "source": [
        "<a href=\"https://colab.research.google.com/github/coder-omer/assignments/blob/main/NegativeMeaning.ipynb\" target=\"_parent\"><img src=\"https://colab.research.google.com/assets/colab-badge.svg\" alt=\"Open In Colab\"/></a>"
      ]
    },
    {
      "cell_type": "code",
      "execution_count": 13,
      "metadata": {
        "colab": {
          "base_uri": "https://localhost:8080/"
        },
        "id": "frovuXXJUux7",
        "outputId": "3af2ba40-7a95-4931-a003-078b9ea534a5"
      },
      "outputs": [
        {
          "output_type": "stream",
          "name": "stdout",
          "text": [
            "not white\n"
          ]
        }
      ],
      "source": [
        "def not_string(word):\n",
        "  if (\"not\") in word:\n",
        "    return word\n",
        "  else:\n",
        "    return (\"not \" + word)\n",
        "\n",
        "print(not_string(\"not white\"))\n"
      ]
    }
  ]
}