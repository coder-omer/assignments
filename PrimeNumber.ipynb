{
  "nbformat": 4,
  "nbformat_minor": 0,
  "metadata": {
    "colab": {
      "name": "PrimeNumber.ipynb",
      "provenance": [],
      "collapsed_sections": [],
      "authorship_tag": "ABX9TyMvDXvMfF0zMphykAyuBVt+"
    },
    "kernelspec": {
      "name": "python3",
      "display_name": "Python 3"
    },
    "language_info": {
      "name": "python"
    }
  },
  "cells": [
    {
      "cell_type": "markdown",
      "metadata": {
        "id": "y_HgaTMjW-OX"
      },
      "source": [
        "Task : Write a program that takes a number from the user and prints the result to check if it is a prime number."
      ]
    },
    {
      "cell_type": "code",
      "metadata": {
        "colab": {
          "base_uri": "https://localhost:8080/"
        },
        "id": "jr1_7qmEvkVq",
        "outputId": "e37cc740-7a94-4c88-a642-50a334f02a3f"
      },
      "source": [
        "number = int(input(\"Please enter a number greater than one: \"))\n",
        "\n",
        "for i in range(2, number):\n",
        "  if number % i == 0:\n",
        "    print(\"{} is not a prime number\".format(number))\n",
        "    break\n",
        "\n",
        "else:\n",
        "  print(\"{} is a prime number\".format(number)) "
      ],
      "execution_count": 86,
      "outputs": [
        {
          "output_type": "stream",
          "name": "stdout",
          "text": [
            "Please enter a number greater than one: 6\n",
            "6 is not a prime number\n"
          ]
        }
      ]
    }
  ]
}