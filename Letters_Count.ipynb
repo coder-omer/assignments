{
  "nbformat": 4,
  "nbformat_minor": 0,
  "metadata": {
    "colab": {
      "name": "Letters Count.ipynb",
      "provenance": [],
      "authorship_tag": "ABX9TyOEN159vc7XmqiCBLdu0VFr"
    },
    "kernelspec": {
      "name": "python3",
      "display_name": "Python 3"
    },
    "language_info": {
      "name": "python"
    }
  },
  "cells": [
    {
      "cell_type": "code",
      "execution_count": 1,
      "metadata": {
        "colab": {
          "base_uri": "https://localhost:8080/"
        },
        "id": "d-otyBw1g-Wt",
        "outputId": "40128610-2aae-419e-ff6d-949648e69a37"
      },
      "outputs": [
        {
          "output_type": "stream",
          "name": "stdout",
          "text": [
            "Please enter your sentence: hippo runs to us!\n",
            "{'h': 1, 'i': 1, 'p': 2, 'o': 2, ' ': 3, 'r': 1, 'u': 2, 'n': 1, 's': 2, 't': 1, '!': 1}\n"
          ]
        }
      ],
      "source": [
        "sentence = input(\"Please enter your sentence: \")\n",
        "letters = []\n",
        "counts = []\n",
        "\n",
        "for i in sentence:\n",
        "  if i not in letters:\n",
        "    letters.append(i)\n",
        "    counts.append(sentence.count(i))\n",
        "\n",
        "dictionary = {key:value for key, value in zip(letters, counts)} \n",
        "print(dictionary)"
      ]
    }
  ]
}